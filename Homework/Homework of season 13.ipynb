{
 "cells": [
  {
   "cell_type": "markdown",
   "metadata": {},
   "source": [
    "# Question 2\n",
    "\n",
    "\n"
   ]
  },
  {
   "cell_type": "markdown",
   "metadata": {},
   "source": [
    "P_1=P(C_1|x)\n",
    "\n",
    "P_2=P(C_2|x)\n",
    "\n",
    "|$x$|$P_1$|$P_2$|\n",
    "|-|:---:|:---:|\n",
    "|2|0.9|0.1|\n",
    "|3|0.8|0.1|\n",
    "|7|0.3|0.7|\n",
    "|9|0.1|0.9|\n",
    "|2|0.9|0.1|\n",
    "|1|0.8|0.2|\n"
   ]
  },
  {
   "cell_type": "markdown",
   "metadata": {},
   "source": [
    "# a)"
   ]
  },
  {
   "cell_type": "markdown",
   "metadata": {},
   "source": [
    "$w_{11}=0.9$, $w_{12}=0.1$\n",
    "\n",
    "$w_{21}=0.8$, $w_{22}=0.1$\n",
    "\n",
    "$w_{31}=0.3$, $w_{32}=0.7$\n",
    "\n",
    "$w_{41}=0.1$, $w_{42}=0.9$\n",
    "\n",
    "$w_{51}=0.9$, $w_{52}=0.1$\n",
    "\n",
    "$w_{61}=0.8$, $w_{62}=0.2$\n",
    "\n",
    "$M_1=\\frac{\\sum_{j=1}^n w_{1j}x_j}{\\sum_{j=1}^nw_{1j}}=\\frac{2*0.9+3*0.8+7*0.3+9*0.1+2*0.8+1*0.8}{0.9+0.8+0.3+0.1+0.9+0.8}$\n",
    "\n",
    "$M_2=\\frac{\\sum_{j=1}^n w_{2j}x_j}{\\sum_{j=1}^nw_{2j}}=\\frac{2*0.1+3*0.1+7*0.7+9*0.9+2*0.1+1*0.2}{0.9+0.8+0.3+0.1+0.9+0.8}$"
   ]
  },
  {
   "cell_type": "markdown",
   "metadata": {},
   "source": [
    "# b)"
   ]
  },
  {
   "cell_type": "markdown",
   "metadata": {},
   "source": [
    "$f(x|M_1,\\sigma_1)*P(c_1)=\\frac{0.5*\\exp^\\frac{-(5-2)^2}{2}}{\\sqrt(2\\pi)}=0.001$\n",
    "\n",
    "$f(x|M_2,\\sigma_2)*P(c_2)=\\frac{0.5*\\exp^\\frac{-(5-7)^2}{2}}{\\sqrt(2\\pi)}=0.02$\n",
    "\n",
    "$w_{1x}=\\frac{f(x|M_1,\\sigma_1)P(c_1)}{\\sum_{a=1}^2f(x_j|M_a,\\sigma_a)P(c_a)}=\\frac{0.001}{0.001+0.02}=0.04$\n",
    "\n",
    "\n",
    "$w_{2x}=\\frac{f(x|M_2,\\sigma_2)P(c_2)}{\\sum_{a=1}^2f(x_j|M_a,\\sigma_a)P(c_a)}=\\frac{0.02}{0.001+0.02}=0.95$"
   ]
  },
  {
   "cell_type": "markdown",
   "metadata": {},
   "source": [
    "# Questuion 4"
   ]
  },
  {
   "cell_type": "markdown",
   "metadata": {},
   "source": [
    "# Question 6"
   ]
  },
  {
   "cell_type": "markdown",
   "metadata": {},
   "source": [
    "$K(x_i,x_j)=1+x_i^Tx_j$\n",
    "\n",
    "$K_{(x_1,x_1)}=1+\\begin{pmatrix} 0.4&0.9 & 0.6\\end{pmatrix}\\begin{pmatrix}0.4\\\\0.9\\\\0.6\\end{pmatrix}$\n",
    "\n",
    "$K=\\begin{pmatrix}2.33 & 1.65 & 1.87 & 2.18\\\\1.65 & 1.62 & 1.69 & 1.58\\\\1.87&1.69&1.61&1.7\\\\2.18&1.58&1.7&2.05\\end{pmatrix}$\n",
    "\n",
    "Probability of being x_1 in C_1:\n",
    "\n",
    "$\n",
    "||\\phi(x_1)-M_1||^2=||\\phi(x_1)||^2+||M_1||^2-\n",
    "2<\\phi(x_1),M_1>$\n",
    "\n",
    "$=K(x_1,x_1)+\\frac{1}{{n_1}^2}\\sum_{x_i\\in C_1}\\sum_{x_j\\in C_1}K(x_i,x_j)-\\frac{2}{{n_1}}\\sum_{x_j\\in C_1} K(x_1,x_j)$\n",
    "\n",
    "$=2.33+\\frac{1}{4}(2.33+1.65+1.65+1.62)-\\frac{2}{2}(2.33+1.65)=0.16$\n",
    "\n",
    "Probability of being x_1 in C_2:\n",
    "\n",
    "$\n",
    "||\\phi(x_1)-M_2||^2=||\\phi(x_1)||^2+||M_2||^2-\n",
    "2<\\phi(x_1),M_2>$\n",
    "\n",
    "$=K(x_1,x_1)+\\frac{1}{{n_2}^2}\\sum_{x_i\\in C_2}\\sum_{x_j\\in C_2}K(x_i,x_j)-\\frac{2}{{n_2}}\\sum_{x_j\\in C_2} K(x_1,x_j)$\n",
    "\n",
    "$=2.33+\\frac{1}{4}(1.7+1.7+1.61+2.05)-\\frac{2}{2}(1.87+2.18)=0.04$\n",
    "\n",
    "Therefore, $x_1$ is in $C_1$."
   ]
  },
  {
   "cell_type": "markdown",
   "metadata": {},
   "source": [
    "# Question 7\n"
   ]
  },
  {
   "cell_type": "markdown",
   "metadata": {},
   "source": [
    "Fisrt, we show that for any vector $U_{1*n}$ and matrix $A_{n*n}$, we have $\\frac{\\delta(U^TAU)}{\\delta(U)}=2AU$, where $\\delta$ is the sign of derivative.\n",
    "\n",
    "$U^TAU=\\sum_{i=1}^n u_iu_ja_{i,j}$. Thus, $\\frac{\\delta(U^TAU)}{\\delta(u_i)}=2\\sum_{j=1}^n u_ja_{i,j}$. Therefore, $\\frac{\\delta(U^TAU)}{\\delta(U)}=2AU$. IT is worth to nothing that, $\\delta(U)$ a vector where the $i$-th entry is $\\delta(u_i)$.\n",
    "\n",
    "\n",
    "Now, lets come back to the question. Suposse that $M$ is the mean of the distribution.\n",
    "$\\frac{\\delta\\big(f(x_j|M_i,\\sum_i)\\big)}{\\delta(M_i)}=\\frac{\\delta{(\\frac{1}{\\sqrt{2\\pi}}exp^{-(x_j-M_i)^T\\sum^{-1}_i (x_j-M_i)/2})}}{\\delta(M_i)}=\\frac{1}{\\sqrt{2\\pi}}exp^{-(x_j-M_i)^T\\sum^{-1}_i (x_j-M_i)/2} * \\frac{\\delta\\big(-(x_j-M_i)^T\\sum^{-1}_i(x_j-M_i)\\big)}{\\delta(M_i)}=f(x_j|M_i,\\sum_i)\\sum^{-1}_i(x_j-M_i)$\n",
    "\n",
    "\n",
    "\n",
    "\n",
    "\n",
    "\n",
    "\n",
    "\n"
   ]
  }
 ],
 "metadata": {
  "kernelspec": {
   "display_name": "Python 3",
   "language": "python",
   "name": "python3"
  },
  "language_info": {
   "codemirror_mode": {
    "name": "ipython",
    "version": 3
   },
   "file_extension": ".py",
   "mimetype": "text/x-python",
   "name": "python",
   "nbconvert_exporter": "python",
   "pygments_lexer": "ipython3",
   "version": "3.6.5"
  }
 },
 "nbformat": 4,
 "nbformat_minor": 2
}
