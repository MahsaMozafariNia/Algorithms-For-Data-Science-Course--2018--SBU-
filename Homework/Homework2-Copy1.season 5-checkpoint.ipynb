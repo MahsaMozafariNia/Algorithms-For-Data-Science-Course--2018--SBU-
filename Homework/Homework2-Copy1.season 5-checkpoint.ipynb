{
 "cells": [
  {
   "cell_type": "markdown",
   "metadata": {},
   "source": [
    "<font color=Red><font size=6># **Question 5.1.1**"
   ]
  },
  {
   "cell_type": "markdown",
   "metadata": {},
   "source": [
    "<font size=5>فراخوانی بسته مربوط به ماتریس ها"
   ]
  },
  {
   "cell_type": "code",
   "execution_count": 83,
   "metadata": {},
   "outputs": [],
   "source": [
    "import numpy as np"
   ]
  },
  {
   "cell_type": "markdown",
   "metadata": {},
   "source": [
    "<font size=5> \n",
    "give a matrix $M_{n.n}$ and matrix $V_{n.1}$ and $n$ as the number of vertices of the graph."
   ]
  },
  {
   "cell_type": "code",
   "execution_count": 84,
   "metadata": {},
   "outputs": [],
   "source": [
    "def pagerank(M,V,n):\n",
    "    i=1\n",
    "    while i>=1:\n",
    "         N=M*V\n",
    "         A=V-N\n",
    "         j=1\n",
    "         c=0\n",
    "         while j>=1:\n",
    "            if (abs(A[j-1][0]))<=0.001:\n",
    "                 c=c+1\n",
    "                 j=j+1\n",
    "            else:\n",
    "                j=0\n",
    "                V=N\n",
    "            if c==n:\n",
    "                j=0\n",
    "                i=0\n",
    "                print(N)\n",
    "                break\n"
   ]
  },
  {
   "cell_type": "code",
   "execution_count": 85,
   "metadata": {},
   "outputs": [
    {
     "name": "stdout",
     "output_type": "stream",
     "text": [
      "[[0.23065272]\n",
      " [0.30787751]\n",
      " [0.46146976]]\n"
     ]
    }
   ],
   "source": [
    "M=np.matrix([[1/3,1/2,0],[1/3,0,1/2],[1/3,1/2,1/2]])\n",
    "V=np.matrix([[1/3],[1/3],[1/3]])\n",
    "pagerank(M,V,3)"
   ]
  },
  {
   "cell_type": "markdown",
   "metadata": {},
   "source": [
    "<font color=Red><font size=6># **Question 5.1.2**"
   ]
  },
  {
   "cell_type": "markdown",
   "metadata": {},
   "source": [
    "<font size=5>فراخوانی بسته مربوط به ماتریس ها"
   ]
  },
  {
   "cell_type": "code",
   "execution_count": 86,
   "metadata": {},
   "outputs": [],
   "source": [
    "import numpy as np"
   ]
  },
  {
   "cell_type": "markdown",
   "metadata": {},
   "source": [
    "<font size=5> \n",
    "give a matrix $M_{n.n}$ and matrix $V_{n.1}$ and $n$ as the number of vertices of the graph."
   ]
  },
  {
   "cell_type": "code",
   "execution_count": 87,
   "metadata": {},
   "outputs": [],
   "source": [
    "def pagerank_taxation(M,V,n):\n",
    "    M=(0.8)*M\n",
    "    u = (0.2 /n) * np.ones((n,1))\n",
    "    i=1\n",
    "    while i>=1:\n",
    "         N=M*V+u\n",
    "         A=V-N\n",
    "         j=1\n",
    "         c=0\n",
    "         while j>=1:\n",
    "            if (abs(A[j-1][0]))<=0.001:\n",
    "                 c=c+1\n",
    "                 j=j+1\n",
    "            else:\n",
    "                j=0\n",
    "                V=N\n",
    "            if c==n:\n",
    "                j=0\n",
    "                i=0\n",
    "                print(N)\n",
    "                break\n"
   ]
  },
  {
   "cell_type": "code",
   "execution_count": 88,
   "metadata": {},
   "outputs": [
    {
     "name": "stdout",
     "output_type": "stream",
     "text": [
      "[[0.25937163]\n",
      " [0.30850151]\n",
      " [0.43212686]]\n"
     ]
    }
   ],
   "source": [
    "M=np.matrix([[1/3,1/2,0],[1/3,0,1/2],[1/3,1/2,1/2]])\n",
    "V=np.matrix([[1/3],[1/3],[1/3]])\n",
    "pagerank_taxation(M,V,3)"
   ]
  },
  {
   "cell_type": "markdown",
   "metadata": {},
   "source": [
    "<font color=Red><font size=6># **Question 5.1.3**"
   ]
  },
  {
   "cell_type": "markdown",
   "metadata": {},
   "source": [
    "The matrix M is a $(n+1).(n+1)$ matrix whereenteries zero and  $\\frac{1}{n}$. since, there is no loop in the grpah, all the entries $M_{i,i}$ is zero. Also, since there is no edge from $v_{n+1}$ to $v_i$, for $1\\leq i\\leq n$, all the entries of the $n+1$th column of $M$ is zero, too.\n",
    "the other entries is equal to  $\\frac{1}{n}$, beacuse all of them have linked to each other.\n",
    "\n",
    "Now, for findeing the pagerank of the vertices(webs), we have to calculate $\\beta.M^i.V_i+u$, where $i\\geq 1$, $V_1$ and $u$ are $1.(n+1)$ vectors with elements $\\frac{1}{n+1}$ and  $\\frac{1-\\beta}{n+1}$, respectively. Also, for $i\\geq 2$, $V_i= \\beta.M^{i-1}.V_{i-1}+u$.\n",
    "\n",
    "The termination of the algorithm is when there is $i\\geq 1 $, such that $V_{i}$ and $V_{i+1}$ are so close."
   ]
  },
  {
   "cell_type": "markdown",
   "metadata": {},
   "source": [
    "<font color=Red><font size=6># **Question 5.1.4**"
   ]
  },
  {
   "cell_type": "markdown",
   "metadata": {},
   "source": [
    "For any integer $n\\geq 2$, consider the graph $G$ with $V(G)=\\{v_1,\\ldots,v_n\\}$ and $E(G)=\\{v_iv_j,v_jv_i:\\hspace{1mm} v_i, v_j\\in V(G)\\}$. Note that, $v_iv_j$ is a directed edge from $v_i$ to $v_j$.\n",
    "The matrix $M$ for this graph is a $n.n$ matrix with entries  zero on the main diameter and the other entries are equal  to $\\frac{1}{n-1}$. The vector $V_0$ is a $1.n$ vector with all entries equal to $\\frac{1}{n}$."
   ]
  },
  {
   "cell_type": "markdown",
   "metadata": {},
   "source": [
    "<font color=Red><font size=6># **Question 5.1.5**\n",
    "    "
   ]
  },
  {
   "cell_type": "markdown",
   "metadata": {},
   "source": [
    "Without loss of generality, supppose that $V_1=\\begin{pmatrix} \\beta_1\\\\\\alpha_1\\\\\\alpha_1\\\\\\alpha_1\\end{pmatrix}$. We prove it by induction on the number of steps.\n",
    "in the first step, we see that the sentence is true.\n",
    "in step 2, we have \n",
    "$$V_2=M.V=\\begin{pmatrix} 0&1/2&1&0\\\\1/3&0&0&1/2\\\\1/3&0&0&1/2\\\\1/3&1/2&0&0\\end{pmatrix}.\\begin{pmatrix} \\beta_1\\\\\\alpha_1\\\\\\alpha_1\\\\\\alpha_1\\end{pmatrix}=\\begin{pmatrix} \\frac{3}{2}\\alpha_1\\\\\\frac{2\\beta_1+3\\alpha_1}{6}\\\\\\frac{2\\beta_1+3\\alpha_1}{6}\\\\\\frac{2\\beta_1+3\\alpha_1}{6}\\end{pmatrix}=\\begin{pmatrix} \\beta_2\\\\\\alpha_2\\\\\\alpha_2\\\\\\alpha_2\\end{pmatrix}$$\n",
    "\n",
    "Now, suppose that the sentence is true for $k-1$-th step, we show that it is also true for $k$-step.\n",
    "Since the sentence is true for $k-1$-th step, we have:\n",
    "$$V_k=M^{k-1}.V_{k-1}=\\begin{pmatrix} \\beta_{k}\\\\\\alpha_{k}\\\\\\alpha_{k}\\\\\\alpha_{k}\\end{pmatrix}$$.\n",
    "Now,\n",
    "$$V_{k+1}=MV_k=\\begin{pmatrix} 0&1/2&1&0\\\\1/3&0&0&1/2\\\\1/3&0&0&1/2\\\\1/3&1/2&0&0\\end{pmatrix}\\begin{pmatrix} \\beta_{k}\\\\\\alpha_{k}\\\\\\alpha_{k}\\\\\\alpha_{k}\\end{pmatrix}=\\begin{pmatrix} \\beta_{k+1}\\\\\\alpha_{k+1}\\\\\\alpha_{k+1}\\\\\\alpha_{k+1}\\end{pmatrix}$$"
   ]
  },
  {
   "cell_type": "markdown",
   "metadata": {},
   "source": [
    "<font color=Red><font size=6># **Question 5.1.6**"
   ]
  },
  {
   "cell_type": "markdown",
   "metadata": {},
   "source": [
    "Suppose that $v_1,\\ldots,v_n$ are a chain of dead ends that $v_1$ is a loop and for $1\\leq i\\leq n-1$, $v_i$ and $v_{i+1}$ are adjacent. Since $v_n$ is a dead end of this graph, delete this vertex. By deleting $v_n$, $v_{n-1}$ is a dead end vertex. Now, delete the dead end vertices. Since $v_1$ has a loop, $v_1$ is not a dead end.\n",
    "(If fact, $v_1$ is a spider trap). \n",
    "First, we calculate the pagerank of $v_1$, then page rank of other vertices of the graph.\n",
    "$M=\\begin{pmatrix} 1\\end{pmatrix}$ and $V=1$.\n",
    "Thus, $M^i.V=1$ for $i\\geq 1$.\n",
    "\n",
    "Now, add the vertex $v_2$ and calculate the page rank of this vertex.\n",
    "If a passenger is on vertex $v_1$ at step one, he can go to vertex $v_2$ with probability $\\frac{1}{2}$.\n",
    "Hence, page rank $v_2=1*\\frac{1}{2}$.\n",
    "If a passenger wants to go to vertex $v_3$ at step $3$, he must be at vertex $v_2$ at step two. Also, since the only outlink of $v_2$ is $v_3$, he can go from $v_2$ to $v_3$ by probability equals $1$.\n",
    "Then, page rank $v_3=\\frac{1}{2}*1$.\n",
    "similarly, the page rank of the other dead ends is equal to $\\frac{1}{2}$."
   ]
  },
  {
   "cell_type": "markdown",
   "metadata": {},
   "source": [
    "<font color=Red><font size=6># **Question 5.1.7**"
   ]
  },
  {
   "cell_type": "markdown",
   "metadata": {},
   "source": [
    "Suppose that $d$  is the diameter of the tree and $v_1$, the vertex with a loop, is the root of tree. Similar to previous question, \n",
    "\n",
    "page rank $v_i=(\\frac{1}{2})^i$, where $v_i$ is the vertex in distance $i$ from the root $v_1$.  \n"
   ]
  },
  {
   "cell_type": "markdown",
   "metadata": {},
   "source": [
    "<font color=blue><font size=6> Exercises of Section 5.2"
   ]
  },
  {
   "cell_type": "markdown",
   "metadata": {},
   "source": [
    "<font color=Red><font size=6># **Question 5.2.2**"
   ]
  },
  {
   "cell_type": "markdown",
   "metadata": {},
   "source": [
    "The represinting transition matrix of the graph $5.4$ is:\n",
    "\n",
    "|Node|Degree|Destinations|\n",
    "|-|:-:|:---:|\n",
    "|A|3|B,D,C|\n",
    "|B|2|A,D|\n",
    "|C|1|E|\n",
    "|D|2|B,C|\n",
    "|E|1|-|\n",
    "\n",
    "Hence, the martix is:\n",
    "\n",
    "\\begin{pmatrix} 0 & 1/2 & 0 & 0 &0 \\\\1/3 & 0 & 0 & 1/2 & 0\\\\1/3 & 0 &0 &1/2&0\\\\1/3 & 1/2 & 0 & 0 & 0\\\\0&0&1&0&0\\end{pmatrix}\n",
    "\n",
    "\n",
    "\n",
    "The represinting transition matrix of the graph $5.7$ is:\n",
    "\n",
    "|Node|Degree|Destinations|\n",
    "|-|:-:|:---:|\n",
    "|A|3|A,B,C|\n",
    "|B|2|A,C|\n",
    "|C|2|B,C|\n",
    "\n",
    "\n",
    "Hence, the martix is:\n",
    "\n",
    "\\begin{pmatrix} 1/3 & 1/2 & 0 \\\\ 1/3 & 0 & 1/2\\\\1/3 & 1/2 & 1/2\\end{pmatrix}\n",
    "\n",
    "\n"
   ]
  },
  {
   "cell_type": "markdown",
   "metadata": {},
   "source": [
    "<font color=Red><font size=6># **Question 5.2.3**"
   ]
  },
  {
   "cell_type": "markdown",
   "metadata": {},
   "source": [
    "The transition matrix M_{11} conecting two vertices A and B:\n",
    "\n",
    "\n",
    "|Node|Degree|Destinations|\n",
    "|-|:-:|:---:|\n",
    "|A|3|B|\n",
    "|B|2|A|\n",
    "\n",
    "The transition matrix M_{12} conecting pairs of  vertices $C,D$ to pairs $A,B$ ($C$ and $D$ have linked to $A$ and $B$):\n",
    "\n",
    "\n",
    "|Node|Degree|Destinations|\n",
    "|-|:-:|:---:|\n",
    "|C|0|-|\n",
    "|D|2|B|\n",
    "\n",
    "The transition matrix M_{21} conecting pairs of  vertices $A,B$ to pairs $C,D$ ($A$ and $B$ have linked to $C$ and $D$):\n",
    "\n",
    "\n",
    "|Node|Degree|Destinations|\n",
    "|-|:-:|:---:|\n",
    "|A|3|C,D|\n",
    "|B|2|D|\n",
    "\n",
    "The transition matrix M_{22} conecting two vertices $C$ and $D$:\n",
    "\n",
    "\n",
    "|Node|Degree|Destinations|\n",
    "|-|:-:|:---:|\n",
    "|C|0|-|\n",
    "|D|2|C|\n",
    "\n",
    "The matrix is:\n",
    "\n",
    "\\begin{pmatrix} 0 & 1/2 & 0 & 0  \\\\1/3 & 0 & 0 & 1/2 \\\\1/3 & 0 &0 &1/2\\\\1/3 & 1/2 & 0 & 0 \\end{pmatrix}"
   ]
  },
  {
   "cell_type": "markdown",
   "metadata": {},
   "source": [
    "<font color=Red><font size=6># **Question 5.2.4**"
   ]
  },
  {
   "cell_type": "markdown",
   "metadata": {},
   "source": [
    "Suppose that $k$ divides $n$. $n=pk$. If $k=n$, then the transition matrix is:\n",
    "\n",
    "For $2\\leq i\\leq n-1$\n",
    "\n",
    "|Node|Degree|Destinations|\n",
    "|-|:-:|:---:|\n",
    "|v_1|2|v_1,v_2|\n",
    "|v_i|1|v_{i+1}|\n",
    "\n",
    "\n",
    "Hence, suppose that $k\\geq 2$.\n",
    "\n",
    "For $2\\leq i\\leq k-1 $, the transition matrix $M_{11}$ is:\n",
    "\n",
    "\n",
    "|Node|Degree|Destinations|\n",
    "|-|:-:|:---:|\n",
    "|v_1|2|v_1,v_2|\n",
    "|v_i|1|v_{i+1}|\n",
    "\n",
    "\n",
    "All the transition matrixes $M_{1j}$, for $2\\leq j\\leq p$, have no entries, beacuse none of the vertices $v_i$ ($i\\geq 2$) have linked to $v_j$ ($j\\leq i$). \n",
    "\n",
    "\n",
    "The transition matrix $M_{21}$ is:\n",
    "\n",
    "\n",
    "|Node|Degree|Destinations|\n",
    "|-|:-:|:---:|\n",
    "|v_k|1|v_{k+1}|\n",
    "\n",
    "\n",
    "For $k+1\\leq i\\leq 2k-1 $, $M_{22}$ is;\n",
    "\n",
    "|Node|Degree|Destinations|\n",
    "|-|:-:|:---:|\n",
    "|v_{i}|1|v_{i+1}|\n",
    "\n",
    "All the transition matrixes $M_{2j}$, for $3\\leq j\\leq p$, have no entries.\n",
    "\n",
    "\n",
    "<font size=5> Generally:\n",
    "<font size =2>\n",
    "\n",
    "For $2\\leq j\\leq k-1 $, the transition matrix $M_{11}$ is:\n",
    "\n",
    "\n",
    "|Node|Degree|Destinations|\n",
    "|-|:-:|:---:|\n",
    "|v_1|2|v_1,v_2|\n",
    "|v_j|1|v_{j+1}|\n",
    "\n",
    "For $i\\geq 2$ and $j\\not \\in \\{i-1,i\\}$, the transition matrix $M_{i,j}$ is empty. Also, $M_{i,i-1}$ and $M_{i,i}$ are \n",
    "\n",
    "$M_{i,i-1}$:\n",
    "\n",
    "|Node|Degree|Destinations|\n",
    "|-|:-:|:---:|\n",
    "|$v_{(i-1)k}$|1|$v_{(i-1)k+1}$|\n",
    "\n",
    "\n",
    "\n",
    "$M_{i,i}$: For $1\\leq j\\leq k-1$\n",
    "\n",
    "|Node|Degree|Destinations|\n",
    "|-|:-:|:---:|\n",
    "|$v_{(i-1)k+j}$|1|$v_{(i-1)k+(j+1)}$|\n",
    "\n",
    "\n",
    ",respectively \n",
    "\n",
    "\n"
   ]
  },
  {
   "cell_type": "markdown",
   "metadata": {},
   "source": [
    "<font color=blue><font size=6> Exercises of Section 5.3"
   ]
  },
  {
   "cell_type": "markdown",
   "metadata": {},
   "source": [
    "<font color=Red><font size=6># **Question 5.3.1**"
   ]
  },
  {
   "cell_type": "markdown",
   "metadata": {},
   "source": [
    "<font size=5> a:\n",
    "<font size=3>\n",
    "    \n",
    "    \n",
    "    \n",
    "    \n",
    "    \n",
    "$M=\\begin{pmatrix} 0 & 1/2 & 1 & 0  \\\\1/3 & 0 & 0 & 1/2 \\\\1/3 & 0 &0 &1/2\\\\1/3 & 1/2 & 0 & 0 \\end{pmatrix}$.      \n",
    "\n",
    "\n",
    "$V=\\begin{pmatrix} 1  \\\\0 \\\\0\\\\0 \\end{pmatrix}$.\n",
    "    "
   ]
  },
  {
   "cell_type": "code",
   "execution_count": 89,
   "metadata": {},
   "outputs": [
    {
     "name": "stdout",
     "output_type": "stream",
     "text": [
      "[[0.42842163]\n",
      " [0.19052612]\n",
      " [0.19052612]\n",
      " [0.19052612]]\n"
     ]
    }
   ],
   "source": [
    "    M=np.matrix([[0,1/2,1,0],[1/3,0,0,1/2],[1/3,0,0,1/2],[1/3,1/2,0,0]])\n",
    "    V=np.matrix([[1],[0],[0],[0]])\n",
    "    M=(0.8)*M\n",
    "    u = (0.2) * np.matrix([[1],[0],[0],[0]])\n",
    "    i=1\n",
    "    while i>=1:\n",
    "         N=M*V+u\n",
    "         A=V-N\n",
    "         j=1\n",
    "         c=0\n",
    "         while j>=1:\n",
    "            if (abs(A[j-1][0]))<=0.001:\n",
    "                 c=c+1\n",
    "                 j=j+1\n",
    "            else:\n",
    "                j=0\n",
    "                V=N\n",
    "            if c==4:\n",
    "                j=0\n",
    "                i=0\n",
    "                print(N)\n",
    "                break"
   ]
  },
  {
   "cell_type": "markdown",
   "metadata": {},
   "source": [
    "<font size=5> b:\n",
    "<font size=3>\n",
    "    \n",
    "    \n",
    "    \n",
    "    \n",
    "    \n",
    "$M=\\begin{pmatrix} 0 & 1/2 & 1 & 0  \\\\1/3 & 0 & 0 & 1/2 \\\\1/3 & 0 &0 &1/2\\\\1/3 & 1/2 & 0 & 0 \\end{pmatrix}$.      \n",
    "\n",
    "\n",
    "$V=\\begin{pmatrix} 1/2  \\\\0 \\\\1/2\\\\0 \\end{pmatrix}$."
   ]
  },
  {
   "cell_type": "code",
   "execution_count": 90,
   "metadata": {},
   "outputs": [
    {
     "name": "stdout",
     "output_type": "stream",
     "text": [
      "[[0.38552704]\n",
      " [0.17149099]\n",
      " [0.27149099]\n",
      " [0.17149099]]\n"
     ]
    }
   ],
   "source": [
    "M=np.matrix([[0,1/2,1,0],[1/3,0,0,1/2],[1/3,0,0,1/2],[1/3,1/2,0,0]])\n",
    "V=np.matrix([[1/2],[0],[1/2],[0]])\n",
    "M=(0.8)*M\n",
    "u = (0.2) * np.matrix([[1/2],[0],[1/2],[0]])\n",
    "i=1\n",
    "while i>=1:\n",
    "    N=M*V+u\n",
    "    A=V-N\n",
    "    j=1\n",
    "    c=0\n",
    "    while j>=1:\n",
    "        if (abs(A[j-1][0]))<=0.001:\n",
    "            c=c+1\n",
    "            j=j+1\n",
    "        else:\n",
    "            j=0\n",
    "            V=N\n",
    "        if c==4:\n",
    "            j=0\n",
    "            i=0\n",
    "            print(N)\n",
    "            break"
   ]
  },
  {
   "cell_type": "markdown",
   "metadata": {},
   "source": [
    "<font color=blue><font size=6> Exercises of Section 5.4"
   ]
  },
  {
   "cell_type": "markdown",
   "metadata": {},
   "source": [
    "<font color=Red><font size=6># **Question 5.4.1**"
   ]
  },
  {
   "cell_type": "markdown",
   "metadata": {},
   "source": [
    "Suppose that $y$ and $s$ are unkown page ranks of target $t$ and a supporting page, respectively.\n",
    "\n",
    "<font size=5> a:\n",
    "<font size=3>\n",
    "\n",
    " Since, the only pages that have linked to a supporting page are  itselt and $t$, then $s=s+\\beta y/m+(1-\\beta)/n$. Also, the only pages that have linked to $t$ are accessible pages. Hence,$y=x$.\n",
    "\n",
    "\n",
    "<font size=5> b:\n",
    "<font size=3>\n",
    "    \n",
    "   Since, the only page that have linked to a supporting page is $t$, then $s=\\beta y/m+(1-\\beta)/n$. Also, the only pages that have linked to $t$ are accessible pages. Hence,$y=x$.\n",
    "\n",
    "   <font size=5> c:\n",
    "<font size=3>\n",
    "    \n",
    "   Since, the only pages that have linked to a supporting page are itselt and $t$, then $s=s+\\beta y/m+(1-\\beta)/n$. Also, the only pages that have linked to $t$ are accessible pages and supporting pages. Hence,$y=x+\\beta m/2(s+\\beta y/m+(1-\\beta)/n)+(1-\\beta)/n$.\n",
    "   \n",
    "   $y=\\frac{2x}{2-\\beta^2}+\\beta m.s+\\beta(1-\\beta)\\frac{m}{n}$.\n",
    "    "
   ]
  },
  {
   "cell_type": "markdown",
   "metadata": {},
   "source": [
    "<font color=Red><font size=6># **Question 5.4.2**"
   ]
  },
  {
   "cell_type": "markdown",
   "metadata": {},
   "source": [
    "\n",
    "<font size=5> a:\n",
    "<font size=3>\n",
    "    \n",
    "    \n",
    "    "
   ]
  },
  {
   "cell_type": "code",
   "execution_count": 91,
   "metadata": {},
   "outputs": [
    {
     "name": "stdout",
     "output_type": "stream",
     "text": [
      "[[0.26922409]\n",
      " [0.35788248]\n",
      " [0.15788248]\n",
      " [0.21501095]]\n"
     ]
    }
   ],
   "source": [
    "M=np.matrix([[0,1/2,1,0],[1/3,0,0,1/2],[1/3,0,0,1/2],[1/3,1/2,0,0]])\n",
    "V=np.matrix([[0],[1],[0],[0]])\n",
    "M=(0.8)*M\n",
    "u = (0.2) * np.matrix([[0],[1],[0],[0]])\n",
    "i=1\n",
    "while i>=1:\n",
    "    N=M*V+u\n",
    "    A=V-N\n",
    "    j=1\n",
    "    c=0\n",
    "    while j>=1:\n",
    "        if (abs(A[j-1][0]))<=0.001:\n",
    "            c=c+1\n",
    "            j=j+1\n",
    "        else:\n",
    "            j=0\n",
    "            V=N\n",
    "        if c==4:\n",
    "            j=0\n",
    "            i=0\n",
    "            print(N)\n",
    "            break"
   ]
  },
  {
   "cell_type": "markdown",
   "metadata": {},
   "source": [
    "\n",
    "<font size=5> b:\n",
    "<font size=3>\n",
    "    "
   ]
  },
  {
   "cell_type": "markdown",
   "metadata": {},
   "source": [
    "Spam mass(A)=$(\\frac{0.33333333-0.26922409}{0.33333333}=0.06410924$\n",
    "\n",
    "Spam mass(B)=$(\\frac{0.22222222-0.35788248}{0.22222222}=-0.061047116$\n",
    "\n",
    "Spam mass(C)=$(\\frac{0.22222222-0.15788248}{0.22222222}=0.28952884$\n",
    "\n",
    "Spam mass(D)=$(\\frac{0.22222222-0.21501095}{0.22222222}=0.03245071$"
   ]
  },
  {
   "cell_type": "markdown",
   "metadata": {},
   "source": [
    "<font color=Red><font size=6># **Question 5.4.3**"
   ]
  },
  {
   "cell_type": "markdown",
   "metadata": {},
   "source": [
    "Suppose that $p_1$ and $p_2$ are two spam farmers that are agree to link $t$. I think is the other spam farmers link to itself and $p_1$ and $p_2$, the page rank of each spam framers increases."
   ]
  },
  {
   "cell_type": "markdown",
   "metadata": {},
   "source": [
    "<font color=blue><font size=6> Exercises of Section 5.5"
   ]
  },
  {
   "cell_type": "markdown",
   "metadata": {},
   "source": [
    "<font color=Red><font size=6># **Question 5.5.1**"
   ]
  },
  {
   "cell_type": "code",
   "execution_count": 92,
   "metadata": {},
   "outputs": [
    {
     "name": "stdout",
     "output_type": "stream",
     "text": [
      "a: [[0.57630208]\n",
      " [1.95448495]\n",
      " [1.95448495]\n",
      " [1.59846644]]\n",
      "h: [[1.14377894]\n",
      " [0.4546875 ]\n",
      " [0.12161458]\n",
      " [0.81070602]]\n"
     ]
    }
   ],
   "source": [
    "L=np.matrix([[0,1,1,1],[1,0,0,1],[1,0,0,0],[0,1,1,0]])\n",
    "LT=np.matrix.transpose(L)\n",
    "h=np.matrix([[1],[1],[1],[1]])\n",
    "i=1\n",
    "while i>=1:\n",
    "    a=LT*h\n",
    "    a=1/int(np.amax(a))*a\n",
    "    H=L*a\n",
    "    H=1/int(np.amax(H))*H\n",
    "    A=h-H\n",
    "    j=1\n",
    "    c=0\n",
    "    while j>=1:\n",
    "        if (abs(A[j-1][0]))<=0.1:\n",
    "            c=c+1\n",
    "            j=j+1\n",
    "        else:\n",
    "            j=0\n",
    "            h=H\n",
    "        if c==4:\n",
    "            j=0\n",
    "            i=0\n",
    "            print(\"a:\",a)\n",
    "            print(\"h:\",h)\n",
    "            break\n"
   ]
  },
  {
   "cell_type": "markdown",
   "metadata": {},
   "source": [
    "<font color=Red><font size=6># **Question 5.5.2**"
   ]
  },
  {
   "cell_type": "markdown",
   "metadata": {},
   "source": [
    "The matrix $L=[l_{i,j}]$ is a $(n.n)$ matrix that $l_{1,1}=1$ and for $1\\leq i\\leq n-1$, $l_{i,i+1}=1$ and the other entries are zero. Now, by considering the vector $h_1_{n.1}$ with all entries equal one, we have $a_1=L^Th_1$ as a $n.1$ vector with all entries one. The first entry of $h_2=La_1$ is one and the others  except $h_{n,1} $are $\\frac{1}{2}$ and $h_{n,1}=0$. Generally, for $i\\geq 1$, $h_i$ is a vecotr of size $n.1$ with $h_{1,1}=1$ and $h_{j,1}=\\frac{1}{2^{j-1}}$, for $2\\leq j\\leq n-1$ and $h_{n,1}=0$. Also, for $i\\geq 1$, $a_{1,1}=a_{2,1}=1$ and $a_{j,1}=\\frac{1}{2^{j-1}}$, where $3\\leq j\\leq n$.\n",
    "\n",
    "\n",
    "Note that, since, $h=\\alpha\\beta LL^Th$, first we can calculate $h$, then find $a_1$ and $h_2$ and....  "
   ]
  },
  {
   "cell_type": "code",
   "execution_count": null,
   "metadata": {},
   "outputs": [],
   "source": []
  }
 ],
 "metadata": {
  "kernelspec": {
   "display_name": "Python 3",
   "language": "python",
   "name": "python3"
  },
  "language_info": {
   "codemirror_mode": {
    "name": "ipython",
    "version": 3
   },
   "file_extension": ".py",
   "mimetype": "text/x-python",
   "name": "python",
   "nbconvert_exporter": "python",
   "pygments_lexer": "ipython3",
   "version": "3.6.5"
  }
 },
 "nbformat": 4,
 "nbformat_minor": 2
}
